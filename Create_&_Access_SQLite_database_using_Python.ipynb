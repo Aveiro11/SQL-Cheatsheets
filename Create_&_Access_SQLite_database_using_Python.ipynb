{
  "cells": [
    {
      "cell_type": "markdown",
      "metadata": {
        "id": "Uf7X2CIwQ8Ji"
      },
      "source": [
        "\n",
        "\n",
        "\n",
        "\n",
        "## Objectives\n",
        "\n",
        "*   Create a database\n",
        "*   Create a table\n",
        "*   Insert data into the table\n",
        "*   Query data from the table\n",
        "*   Retrieve the result set into a pandas dataframe\n",
        "*   Close the database connection\n"
      ]
    },
    {
      "cell_type": "markdown",
      "metadata": {
        "id": "uRaDWjzQQ8Jn"
      },
      "source": [
        "\n",
        "\n",
        "## Task 1: Create database using SQLite\n"
      ]
    },
    {
      "cell_type": "code",
      "execution_count": 1,
      "metadata": {
        "id": "3w-7bdX4Q8Jp"
      },
      "outputs": [],
      "source": [
        "#Install & load sqlite3\n",
        "#!pip install sqlite3  ##Uncomment the code to install sqlite3\n",
        "import sqlite3"
      ]
    },
    {
      "cell_type": "code",
      "execution_count": 2,
      "metadata": {
        "id": "44nOP8wMQ8Js"
      },
      "outputs": [],
      "source": [
        "# Connecting to sqlite\n",
        "# connection object\n",
        "conn = sqlite3.connect('INSTRUCTOR.db')"
      ]
    },
    {
      "cell_type": "markdown",
      "metadata": {
        "id": "3zWK-4USQ8Jt"
      },
      "source": [
        "Cursor class is an instance using which you can invoke methods that execute SQLite statements, fetch data from the result sets of the queries. You can create Cursor object using the cursor() method of the Connection object/class.\n"
      ]
    },
    {
      "cell_type": "code",
      "execution_count": 3,
      "metadata": {
        "scrolled": true,
        "id": "CP8Mj_-gQ8Jt"
      },
      "outputs": [],
      "source": [
        "# cursor object\n",
        "cursor_obj = conn.cursor()"
      ]
    },
    {
      "cell_type": "markdown",
      "metadata": {
        "id": "U6BVl2OmQ8Ju"
      },
      "source": [
        "## Task 2: Create a table in the database\n",
        "\n",
        "In this step we will create a table in the database with following details:\n",
        "\n",
        "<img src=\"https://cf-courses-data.s3.us.cloud-object-storage.appdomain.cloud/IBMDeveloperSkillsNetwork-DB0201EN-SkillsNetwork/labs/FinalModule_Coursera_V5/images/table.png\" align=\"center\">\n"
      ]
    },
    {
      "cell_type": "markdown",
      "metadata": {
        "id": "F4GZBkPlQ8Jv"
      },
      "source": [
        "Before creating a table, let's first if the table already exist or not. To drop the table from a database use **DROP** query. A cursor is an object which helps to execute the query and fetch the records from the database.\n"
      ]
    },
    {
      "cell_type": "code",
      "execution_count": 4,
      "metadata": {
        "colab": {
          "base_uri": "https://localhost:8080/"
        },
        "id": "0ygzBE2FQ8Jw",
        "outputId": "2727b903-31da-40e2-9650-13b4edc4a928"
      },
      "outputs": [
        {
          "output_type": "execute_result",
          "data": {
            "text/plain": [
              "<sqlite3.Cursor at 0x7add1a093ec0>"
            ]
          },
          "metadata": {},
          "execution_count": 4
        }
      ],
      "source": [
        "# Drop the table if already exists.\n",
        "cursor_obj.execute(\"DROP TABLE IF EXISTS INSTRUCTOR\")"
      ]
    },
    {
      "cell_type": "markdown",
      "metadata": {
        "id": "e2C4-puOQ8Jx"
      },
      "source": [
        "## Dont worry if you get this error:\n",
        "\n",
        "If you see an exception/error similar to the following, indicating that INSTRUCTOR is an undefined name, that's okay. It just implies that the INSTRUCTOR table does not exist in the table - which would be the case if you had not created it previously.\n",
        "\n",
        "<strong>Exception: \\[IBM]\\[CLI Driver]\\[DB2/LINUXX8664] SQL0204N  \"ABC12345.INSTRUCTOR\" is an undefined name.  SQLSTATE=42704 SQLCODE=-204</strong>\n"
      ]
    },
    {
      "cell_type": "code",
      "execution_count": 5,
      "metadata": {
        "colab": {
          "base_uri": "https://localhost:8080/"
        },
        "id": "9nHB03goQ8Jy",
        "outputId": "366c9c28-5e2e-42b7-fad5-dc950e52d150"
      },
      "outputs": [
        {
          "output_type": "stream",
          "name": "stdout",
          "text": [
            "Table is Ready\n"
          ]
        }
      ],
      "source": [
        "# Creating table\n",
        "table = \"\"\" create table IF NOT EXISTS INSTRUCTOR(ID INTEGER PRIMARY KEY NOT NULL, FNAME VARCHAR(20), LNAME VARCHAR(20), CITY VARCHAR(20), CCODE CHAR(2));\"\"\"\n",
        "\n",
        "cursor_obj.execute(table)\n",
        "\n",
        "print(\"Table is Ready\")"
      ]
    },
    {
      "cell_type": "markdown",
      "metadata": {
        "id": "21N7NLS8Q8Jz"
      },
      "source": [
        "## Task 3: Insert data into the table\n",
        "\n",
        "In this step we will insert some rows of data into the table.\n",
        "\n",
        "The INSTRUCTOR table we created in the previous step contains 3 rows of data:\n",
        "\n",
        "<img src=\"https://cf-courses-data.s3.us.cloud-object-storage.appdomain.cloud/IBMDeveloperSkillsNetwork-DB0201EN-SkillsNetwork/labs/FinalModule_Coursera_V5/images/table1.png\" align=\"center\">\n",
        "\n",
        "We will start by inserting just the first row of data, i.e. for instructor Rav Ahuja\n"
      ]
    },
    {
      "cell_type": "code",
      "execution_count": 6,
      "metadata": {
        "colab": {
          "base_uri": "https://localhost:8080/"
        },
        "id": "A3AqeqaGQ8Jz",
        "outputId": "7b192d6a-af58-454d-e7b5-a46f23d77b39"
      },
      "outputs": [
        {
          "output_type": "execute_result",
          "data": {
            "text/plain": [
              "<sqlite3.Cursor at 0x7add1a093ec0>"
            ]
          },
          "metadata": {},
          "execution_count": 6
        }
      ],
      "source": [
        "cursor_obj.execute('''insert into INSTRUCTOR values (1, 'Rav', 'Ahuja', 'TORONTO', 'CA')''')"
      ]
    },
    {
      "cell_type": "markdown",
      "metadata": {
        "id": "4dHY-a0qQ8J0"
      },
      "source": [
        "The output you will get something as: <strong>sqlite3.Cursor at 0x27a1a491260</strong> which means mySql database has sqlite3.Cursor object at 0x27a1a49126 as output in table. But you may get the different number.\n",
        "\n",
        "Now use a single query to insert the remaining two rows of data\n"
      ]
    },
    {
      "cell_type": "code",
      "execution_count": 7,
      "metadata": {
        "colab": {
          "base_uri": "https://localhost:8080/"
        },
        "id": "GYCfmqM5Q8J1",
        "outputId": "c179de45-2284-4191-f57b-1dcd6a570391"
      },
      "outputs": [
        {
          "output_type": "execute_result",
          "data": {
            "text/plain": [
              "<sqlite3.Cursor at 0x7add1a093ec0>"
            ]
          },
          "metadata": {},
          "execution_count": 7
        }
      ],
      "source": [
        "cursor_obj.execute('''insert into INSTRUCTOR values (2, 'Raul', 'Chong', 'Markham', 'CA'), (3, 'Hima', 'Vasudevan', 'Chicago', 'US')''')"
      ]
    },
    {
      "cell_type": "markdown",
      "metadata": {
        "id": "cKp_Wm77Q8J1"
      },
      "source": [
        "## Task 4: Query data in the table\n",
        "\n",
        "In this step we will retrieve data we inserted into the INSTRUCTOR table.\n"
      ]
    },
    {
      "cell_type": "code",
      "execution_count": 8,
      "metadata": {
        "colab": {
          "base_uri": "https://localhost:8080/"
        },
        "id": "sOGpIn_5Q8J2",
        "outputId": "ea277b5c-539c-495c-ccff-6b49eeed8e19"
      },
      "outputs": [
        {
          "output_type": "stream",
          "name": "stdout",
          "text": [
            "All the data\n",
            "(1, 'Rav', 'Ahuja', 'TORONTO', 'CA')\n",
            "(2, 'Raul', 'Chong', 'Markham', 'CA')\n",
            "(3, 'Hima', 'Vasudevan', 'Chicago', 'US')\n"
          ]
        }
      ],
      "source": [
        "statement = '''SELECT * FROM INSTRUCTOR'''\n",
        "cursor_obj.execute(statement)\n",
        "\n",
        "print(\"All the data\")\n",
        "output_all = cursor_obj.fetchall()\n",
        "for row_all in output_all:\n",
        "  print(row_all)"
      ]
    },
    {
      "cell_type": "code",
      "execution_count": 9,
      "metadata": {
        "colab": {
          "base_uri": "https://localhost:8080/"
        },
        "id": "QrjBjzWdQ8J2",
        "outputId": "b62143eb-c7d1-4aac-fb09-d54222cf79d6"
      },
      "outputs": [
        {
          "output_type": "stream",
          "name": "stdout",
          "text": [
            "All the data\n",
            "(1, 'Rav', 'Ahuja', 'TORONTO', 'CA')\n",
            "(2, 'Raul', 'Chong', 'Markham', 'CA')\n"
          ]
        }
      ],
      "source": [
        "## Fetch few rows from the table\n",
        "statement = '''SELECT * FROM INSTRUCTOR'''\n",
        "cursor_obj.execute(statement)\n",
        "\n",
        "print(\"All the data\")\n",
        "# If you want to fetch few rows from the table we use fetchmany(numberofrows) and mention the number how many rows you want to fetch\n",
        "output_many = cursor_obj.fetchmany(2)\n",
        "for row_many in output_many:\n",
        "  print(row_many)"
      ]
    },
    {
      "cell_type": "code",
      "execution_count": 10,
      "metadata": {
        "scrolled": true,
        "colab": {
          "base_uri": "https://localhost:8080/"
        },
        "id": "fcQw4nPUQ8J3",
        "outputId": "ae78a9ce-a596-4fd6-fc4a-566b57197fbb"
      },
      "outputs": [
        {
          "output_type": "stream",
          "name": "stdout",
          "text": [
            "All the data\n",
            "('Rav',)\n",
            "('Raul',)\n",
            "('Hima',)\n"
          ]
        }
      ],
      "source": [
        "# Fetch only FNAME from the table\n",
        "statement = '''SELECT FNAME FROM INSTRUCTOR'''\n",
        "cursor_obj.execute(statement)\n",
        "\n",
        "print(\"All the data\")\n",
        "output_column = cursor_obj.fetchall()\n",
        "for fetch in output_column:\n",
        "  print(fetch)"
      ]
    },
    {
      "cell_type": "markdown",
      "metadata": {
        "id": "cN0CFBhHQ8J3"
      },
      "source": [
        "<Strong>Bonus: now write and execute an update statement that changes the Rav's CITY to MOOSETOWN</strong>\n"
      ]
    },
    {
      "cell_type": "code",
      "execution_count": 11,
      "metadata": {
        "colab": {
          "base_uri": "https://localhost:8080/"
        },
        "id": "F3gcptFAQ8J4",
        "outputId": "3391baf0-4507-4efc-e205-b9b0081260c1"
      },
      "outputs": [
        {
          "output_type": "execute_result",
          "data": {
            "text/plain": [
              "<sqlite3.Cursor at 0x7add1a093ec0>"
            ]
          },
          "metadata": {},
          "execution_count": 11
        }
      ],
      "source": [
        "query_update='''update INSTRUCTOR set CITY='MOOSETOWN' where FNAME=\"Rav\"'''\n",
        "cursor_obj.execute(query_update)"
      ]
    },
    {
      "cell_type": "code",
      "execution_count": 12,
      "metadata": {
        "scrolled": true,
        "colab": {
          "base_uri": "https://localhost:8080/"
        },
        "id": "985rKG0DQ8J4",
        "outputId": "04787295-050f-480a-d7cd-e632613356cb"
      },
      "outputs": [
        {
          "output_type": "stream",
          "name": "stdout",
          "text": [
            "All the data\n",
            "(1, 'Rav', 'Ahuja', 'MOOSETOWN', 'CA')\n",
            "(2, 'Raul', 'Chong', 'Markham', 'CA')\n"
          ]
        }
      ],
      "source": [
        "statement = '''SELECT * FROM INSTRUCTOR'''\n",
        "cursor_obj.execute(statement)\n",
        "\n",
        "print(\"All the data\")\n",
        "output1 = cursor_obj.fetchmany(2)\n",
        "for row in output1:\n",
        "  print(row)"
      ]
    },
    {
      "cell_type": "markdown",
      "metadata": {
        "id": "LQshZusDQ8J5"
      },
      "source": [
        "## Task 5: Retrieve data into Pandas\n",
        "\n",
        "In this step we will retrieve the contents of the INSTRUCTOR table into a Pandas dataframe\n"
      ]
    },
    {
      "cell_type": "code",
      "execution_count": 13,
      "metadata": {
        "colab": {
          "base_uri": "https://localhost:8080/",
          "height": 143
        },
        "id": "qr5j0-rLQ8J5",
        "outputId": "71be7a2c-6956-40c8-c50c-38687cc9e384"
      },
      "outputs": [
        {
          "output_type": "execute_result",
          "data": {
            "text/plain": [
              "   ID FNAME      LNAME       CITY CCODE\n",
              "0   1   Rav      Ahuja  MOOSETOWN    CA\n",
              "1   2  Raul      Chong    Markham    CA\n",
              "2   3  Hima  Vasudevan    Chicago    US"
            ],
            "text/html": [
              "\n",
              "  <div id=\"df-987c5c51-53ff-4e2f-88f5-00d34135c973\" class=\"colab-df-container\">\n",
              "    <div>\n",
              "<style scoped>\n",
              "    .dataframe tbody tr th:only-of-type {\n",
              "        vertical-align: middle;\n",
              "    }\n",
              "\n",
              "    .dataframe tbody tr th {\n",
              "        vertical-align: top;\n",
              "    }\n",
              "\n",
              "    .dataframe thead th {\n",
              "        text-align: right;\n",
              "    }\n",
              "</style>\n",
              "<table border=\"1\" class=\"dataframe\">\n",
              "  <thead>\n",
              "    <tr style=\"text-align: right;\">\n",
              "      <th></th>\n",
              "      <th>ID</th>\n",
              "      <th>FNAME</th>\n",
              "      <th>LNAME</th>\n",
              "      <th>CITY</th>\n",
              "      <th>CCODE</th>\n",
              "    </tr>\n",
              "  </thead>\n",
              "  <tbody>\n",
              "    <tr>\n",
              "      <th>0</th>\n",
              "      <td>1</td>\n",
              "      <td>Rav</td>\n",
              "      <td>Ahuja</td>\n",
              "      <td>MOOSETOWN</td>\n",
              "      <td>CA</td>\n",
              "    </tr>\n",
              "    <tr>\n",
              "      <th>1</th>\n",
              "      <td>2</td>\n",
              "      <td>Raul</td>\n",
              "      <td>Chong</td>\n",
              "      <td>Markham</td>\n",
              "      <td>CA</td>\n",
              "    </tr>\n",
              "    <tr>\n",
              "      <th>2</th>\n",
              "      <td>3</td>\n",
              "      <td>Hima</td>\n",
              "      <td>Vasudevan</td>\n",
              "      <td>Chicago</td>\n",
              "      <td>US</td>\n",
              "    </tr>\n",
              "  </tbody>\n",
              "</table>\n",
              "</div>\n",
              "    <div class=\"colab-df-buttons\">\n",
              "\n",
              "  <div class=\"colab-df-container\">\n",
              "    <button class=\"colab-df-convert\" onclick=\"convertToInteractive('df-987c5c51-53ff-4e2f-88f5-00d34135c973')\"\n",
              "            title=\"Convert this dataframe to an interactive table.\"\n",
              "            style=\"display:none;\">\n",
              "\n",
              "  <svg xmlns=\"http://www.w3.org/2000/svg\" height=\"24px\" viewBox=\"0 -960 960 960\">\n",
              "    <path d=\"M120-120v-720h720v720H120Zm60-500h600v-160H180v160Zm220 220h160v-160H400v160Zm0 220h160v-160H400v160ZM180-400h160v-160H180v160Zm440 0h160v-160H620v160ZM180-180h160v-160H180v160Zm440 0h160v-160H620v160Z\"/>\n",
              "  </svg>\n",
              "    </button>\n",
              "\n",
              "  <style>\n",
              "    .colab-df-container {\n",
              "      display:flex;\n",
              "      gap: 12px;\n",
              "    }\n",
              "\n",
              "    .colab-df-convert {\n",
              "      background-color: #E8F0FE;\n",
              "      border: none;\n",
              "      border-radius: 50%;\n",
              "      cursor: pointer;\n",
              "      display: none;\n",
              "      fill: #1967D2;\n",
              "      height: 32px;\n",
              "      padding: 0 0 0 0;\n",
              "      width: 32px;\n",
              "    }\n",
              "\n",
              "    .colab-df-convert:hover {\n",
              "      background-color: #E2EBFA;\n",
              "      box-shadow: 0px 1px 2px rgba(60, 64, 67, 0.3), 0px 1px 3px 1px rgba(60, 64, 67, 0.15);\n",
              "      fill: #174EA6;\n",
              "    }\n",
              "\n",
              "    .colab-df-buttons div {\n",
              "      margin-bottom: 4px;\n",
              "    }\n",
              "\n",
              "    [theme=dark] .colab-df-convert {\n",
              "      background-color: #3B4455;\n",
              "      fill: #D2E3FC;\n",
              "    }\n",
              "\n",
              "    [theme=dark] .colab-df-convert:hover {\n",
              "      background-color: #434B5C;\n",
              "      box-shadow: 0px 1px 3px 1px rgba(0, 0, 0, 0.15);\n",
              "      filter: drop-shadow(0px 1px 2px rgba(0, 0, 0, 0.3));\n",
              "      fill: #FFFFFF;\n",
              "    }\n",
              "  </style>\n",
              "\n",
              "    <script>\n",
              "      const buttonEl =\n",
              "        document.querySelector('#df-987c5c51-53ff-4e2f-88f5-00d34135c973 button.colab-df-convert');\n",
              "      buttonEl.style.display =\n",
              "        google.colab.kernel.accessAllowed ? 'block' : 'none';\n",
              "\n",
              "      async function convertToInteractive(key) {\n",
              "        const element = document.querySelector('#df-987c5c51-53ff-4e2f-88f5-00d34135c973');\n",
              "        const dataTable =\n",
              "          await google.colab.kernel.invokeFunction('convertToInteractive',\n",
              "                                                    [key], {});\n",
              "        if (!dataTable) return;\n",
              "\n",
              "        const docLinkHtml = 'Like what you see? Visit the ' +\n",
              "          '<a target=\"_blank\" href=https://colab.research.google.com/notebooks/data_table.ipynb>data table notebook</a>'\n",
              "          + ' to learn more about interactive tables.';\n",
              "        element.innerHTML = '';\n",
              "        dataTable['output_type'] = 'display_data';\n",
              "        await google.colab.output.renderOutput(dataTable, element);\n",
              "        const docLink = document.createElement('div');\n",
              "        docLink.innerHTML = docLinkHtml;\n",
              "        element.appendChild(docLink);\n",
              "      }\n",
              "    </script>\n",
              "  </div>\n",
              "\n",
              "\n",
              "<div id=\"df-4321ab38-9443-4886-8c81-81b13138c69e\">\n",
              "  <button class=\"colab-df-quickchart\" onclick=\"quickchart('df-4321ab38-9443-4886-8c81-81b13138c69e')\"\n",
              "            title=\"Suggest charts\"\n",
              "            style=\"display:none;\">\n",
              "\n",
              "<svg xmlns=\"http://www.w3.org/2000/svg\" height=\"24px\"viewBox=\"0 0 24 24\"\n",
              "     width=\"24px\">\n",
              "    <g>\n",
              "        <path d=\"M19 3H5c-1.1 0-2 .9-2 2v14c0 1.1.9 2 2 2h14c1.1 0 2-.9 2-2V5c0-1.1-.9-2-2-2zM9 17H7v-7h2v7zm4 0h-2V7h2v10zm4 0h-2v-4h2v4z\"/>\n",
              "    </g>\n",
              "</svg>\n",
              "  </button>\n",
              "\n",
              "<style>\n",
              "  .colab-df-quickchart {\n",
              "      --bg-color: #E8F0FE;\n",
              "      --fill-color: #1967D2;\n",
              "      --hover-bg-color: #E2EBFA;\n",
              "      --hover-fill-color: #174EA6;\n",
              "      --disabled-fill-color: #AAA;\n",
              "      --disabled-bg-color: #DDD;\n",
              "  }\n",
              "\n",
              "  [theme=dark] .colab-df-quickchart {\n",
              "      --bg-color: #3B4455;\n",
              "      --fill-color: #D2E3FC;\n",
              "      --hover-bg-color: #434B5C;\n",
              "      --hover-fill-color: #FFFFFF;\n",
              "      --disabled-bg-color: #3B4455;\n",
              "      --disabled-fill-color: #666;\n",
              "  }\n",
              "\n",
              "  .colab-df-quickchart {\n",
              "    background-color: var(--bg-color);\n",
              "    border: none;\n",
              "    border-radius: 50%;\n",
              "    cursor: pointer;\n",
              "    display: none;\n",
              "    fill: var(--fill-color);\n",
              "    height: 32px;\n",
              "    padding: 0;\n",
              "    width: 32px;\n",
              "  }\n",
              "\n",
              "  .colab-df-quickchart:hover {\n",
              "    background-color: var(--hover-bg-color);\n",
              "    box-shadow: 0 1px 2px rgba(60, 64, 67, 0.3), 0 1px 3px 1px rgba(60, 64, 67, 0.15);\n",
              "    fill: var(--button-hover-fill-color);\n",
              "  }\n",
              "\n",
              "  .colab-df-quickchart-complete:disabled,\n",
              "  .colab-df-quickchart-complete:disabled:hover {\n",
              "    background-color: var(--disabled-bg-color);\n",
              "    fill: var(--disabled-fill-color);\n",
              "    box-shadow: none;\n",
              "  }\n",
              "\n",
              "  .colab-df-spinner {\n",
              "    border: 2px solid var(--fill-color);\n",
              "    border-color: transparent;\n",
              "    border-bottom-color: var(--fill-color);\n",
              "    animation:\n",
              "      spin 1s steps(1) infinite;\n",
              "  }\n",
              "\n",
              "  @keyframes spin {\n",
              "    0% {\n",
              "      border-color: transparent;\n",
              "      border-bottom-color: var(--fill-color);\n",
              "      border-left-color: var(--fill-color);\n",
              "    }\n",
              "    20% {\n",
              "      border-color: transparent;\n",
              "      border-left-color: var(--fill-color);\n",
              "      border-top-color: var(--fill-color);\n",
              "    }\n",
              "    30% {\n",
              "      border-color: transparent;\n",
              "      border-left-color: var(--fill-color);\n",
              "      border-top-color: var(--fill-color);\n",
              "      border-right-color: var(--fill-color);\n",
              "    }\n",
              "    40% {\n",
              "      border-color: transparent;\n",
              "      border-right-color: var(--fill-color);\n",
              "      border-top-color: var(--fill-color);\n",
              "    }\n",
              "    60% {\n",
              "      border-color: transparent;\n",
              "      border-right-color: var(--fill-color);\n",
              "    }\n",
              "    80% {\n",
              "      border-color: transparent;\n",
              "      border-right-color: var(--fill-color);\n",
              "      border-bottom-color: var(--fill-color);\n",
              "    }\n",
              "    90% {\n",
              "      border-color: transparent;\n",
              "      border-bottom-color: var(--fill-color);\n",
              "    }\n",
              "  }\n",
              "</style>\n",
              "\n",
              "  <script>\n",
              "    async function quickchart(key) {\n",
              "      const quickchartButtonEl =\n",
              "        document.querySelector('#' + key + ' button');\n",
              "      quickchartButtonEl.disabled = true;  // To prevent multiple clicks.\n",
              "      quickchartButtonEl.classList.add('colab-df-spinner');\n",
              "      try {\n",
              "        const charts = await google.colab.kernel.invokeFunction(\n",
              "            'suggestCharts', [key], {});\n",
              "      } catch (error) {\n",
              "        console.error('Error during call to suggestCharts:', error);\n",
              "      }\n",
              "      quickchartButtonEl.classList.remove('colab-df-spinner');\n",
              "      quickchartButtonEl.classList.add('colab-df-quickchart-complete');\n",
              "    }\n",
              "    (() => {\n",
              "      let quickchartButtonEl =\n",
              "        document.querySelector('#df-4321ab38-9443-4886-8c81-81b13138c69e button');\n",
              "      quickchartButtonEl.style.display =\n",
              "        google.colab.kernel.accessAllowed ? 'block' : 'none';\n",
              "    })();\n",
              "  </script>\n",
              "</div>\n",
              "    </div>\n",
              "  </div>\n"
            ]
          },
          "metadata": {},
          "execution_count": 13
        }
      ],
      "source": [
        "import pandas as pd\n",
        "#retrieve the query results into a pandas dataframe\n",
        "df = pd.read_sql_query(\"select * from instructor;\", conn)\n",
        "\n",
        "#print the dataframe\n",
        "df"
      ]
    },
    {
      "cell_type": "code",
      "execution_count": 14,
      "metadata": {
        "colab": {
          "base_uri": "https://localhost:8080/",
          "height": 35
        },
        "id": "HT_9kYwkQ8J7",
        "outputId": "1fc9075a-7b1e-44fe-92bf-09a8f2380660"
      },
      "outputs": [
        {
          "output_type": "execute_result",
          "data": {
            "text/plain": [
              "'Ahuja'"
            ],
            "application/vnd.google.colaboratory.intrinsic+json": {
              "type": "string"
            }
          },
          "metadata": {},
          "execution_count": 14
        }
      ],
      "source": [
        "#print just the LNAME for first row in the pandas data frame\n",
        "df.LNAME[0]"
      ]
    },
    {
      "cell_type": "markdown",
      "metadata": {
        "id": "TSh_Agj2Q8J7"
      },
      "source": [
        "Once the data is in a Pandas dataframe, you can do the typical pandas operations on it.\n",
        "\n",
        "For example you can use the shape method to see how many rows and columns are in the dataframe\n"
      ]
    },
    {
      "cell_type": "code",
      "execution_count": 15,
      "metadata": {
        "scrolled": true,
        "colab": {
          "base_uri": "https://localhost:8080/"
        },
        "id": "orm7JiaTQ8J9",
        "outputId": "e4146690-1aa4-48bd-dfb0-b888a5377ba4"
      },
      "outputs": [
        {
          "output_type": "execute_result",
          "data": {
            "text/plain": [
              "(3, 5)"
            ]
          },
          "metadata": {},
          "execution_count": 15
        }
      ],
      "source": [
        "df.shape"
      ]
    },
    {
      "cell_type": "markdown",
      "metadata": {
        "id": "f6-uA8pMQ8J-"
      },
      "source": [
        "## Task 6: Close the Connection\n",
        "\n",
        "We free all resources by closing the connection. Remember that it is always important to close connections so that we can avoid unused connections taking up resources.\n"
      ]
    },
    {
      "cell_type": "code",
      "execution_count": 16,
      "metadata": {
        "id": "BwOsgPbxQ8J_"
      },
      "outputs": [],
      "source": [
        "# Close the connection\n",
        "conn.close()"
      ]
    }
  ],
  "metadata": {
    "kernelspec": {
      "display_name": "Python 3",
      "language": "python",
      "name": "python3"
    },
    "language_info": {
      "codemirror_mode": {
        "name": "ipython",
        "version": 3
      },
      "file_extension": ".py",
      "mimetype": "text/x-python",
      "name": "python",
      "nbconvert_exporter": "python",
      "pygments_lexer": "ipython3",
      "version": "3.8.8"
    },
    "colab": {
      "provenance": []
    }
  },
  "nbformat": 4,
  "nbformat_minor": 0
}